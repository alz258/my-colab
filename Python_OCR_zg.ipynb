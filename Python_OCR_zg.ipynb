{
  "nbformat": 4,
  "nbformat_minor": 0,
  "metadata": {
    "colab": {
      "provenance": []
    },
    "kernelspec": {
      "name": "python3",
      "display_name": "Python 3"
    },
    "language_info": {
      "name": "python"
    }
  },
  "cells": [
    {
      "cell_type": "markdown",
      "source": [
        "# This Python-based tool extracts data from PDF documents containing a mix of text, tables, images, and graphs, and outputs the data in JSON format."
      ],
      "metadata": {
        "id": "tWyCECKWCNHd"
      }
    },
    {
      "cell_type": "code",
      "execution_count": 1,
      "metadata": {
        "colab": {
          "base_uri": "https://localhost:8080/"
        },
        "id": "XktpKi14--nL",
        "outputId": "8bc182b9-c444-4847-a1eb-eee5fadce22d"
      },
      "outputs": [
        {
          "output_type": "stream",
          "name": "stdout",
          "text": [
            "Collecting PyMuPDF\n",
            "  Downloading PyMuPDF-1.24.11-cp38-abi3-manylinux2014_x86_64.manylinux_2_17_x86_64.whl.metadata (3.4 kB)\n",
            "Collecting pdfplumber\n",
            "  Downloading pdfplumber-0.11.4-py3-none-any.whl.metadata (41 kB)\n",
            "\u001b[2K     \u001b[90m━━━━━━━━━━━━━━━━━━━━━━━━━━━━━━━━━━━━━━━━\u001b[0m \u001b[32m42.0/42.0 kB\u001b[0m \u001b[31m2.0 MB/s\u001b[0m eta \u001b[36m0:00:00\u001b[0m\n",
            "\u001b[?25hRequirement already satisfied: Pillow in /usr/local/lib/python3.10/dist-packages (10.4.0)\n",
            "Collecting pdfminer.six==20231228 (from pdfplumber)\n",
            "  Downloading pdfminer.six-20231228-py3-none-any.whl.metadata (4.2 kB)\n",
            "Collecting pypdfium2>=4.18.0 (from pdfplumber)\n",
            "  Downloading pypdfium2-4.30.0-py3-none-manylinux_2_17_x86_64.manylinux2014_x86_64.whl.metadata (48 kB)\n",
            "\u001b[2K     \u001b[90m━━━━━━━━━━━━━━━━━━━━━━━━━━━━━━━━━━━━━━━━\u001b[0m \u001b[32m48.5/48.5 kB\u001b[0m \u001b[31m1.5 MB/s\u001b[0m eta \u001b[36m0:00:00\u001b[0m\n",
            "\u001b[?25hRequirement already satisfied: charset-normalizer>=2.0.0 in /usr/local/lib/python3.10/dist-packages (from pdfminer.six==20231228->pdfplumber) (3.3.2)\n",
            "Requirement already satisfied: cryptography>=36.0.0 in /usr/local/lib/python3.10/dist-packages (from pdfminer.six==20231228->pdfplumber) (43.0.1)\n",
            "Requirement already satisfied: cffi>=1.12 in /usr/local/lib/python3.10/dist-packages (from cryptography>=36.0.0->pdfminer.six==20231228->pdfplumber) (1.17.1)\n",
            "Requirement already satisfied: pycparser in /usr/local/lib/python3.10/dist-packages (from cffi>=1.12->cryptography>=36.0.0->pdfminer.six==20231228->pdfplumber) (2.22)\n",
            "Downloading PyMuPDF-1.24.11-cp38-abi3-manylinux2014_x86_64.manylinux_2_17_x86_64.whl (19.6 MB)\n",
            "\u001b[2K   \u001b[90m━━━━━━━━━━━━━━━━━━━━━━━━━━━━━━━━━━━━━━━━\u001b[0m \u001b[32m19.6/19.6 MB\u001b[0m \u001b[31m33.0 MB/s\u001b[0m eta \u001b[36m0:00:00\u001b[0m\n",
            "\u001b[?25hDownloading pdfplumber-0.11.4-py3-none-any.whl (59 kB)\n",
            "\u001b[2K   \u001b[90m━━━━━━━━━━━━━━━━━━━━━━━━━━━━━━━━━━━━━━━━\u001b[0m \u001b[32m59.2/59.2 kB\u001b[0m \u001b[31m3.0 MB/s\u001b[0m eta \u001b[36m0:00:00\u001b[0m\n",
            "\u001b[?25hDownloading pdfminer.six-20231228-py3-none-any.whl (5.6 MB)\n",
            "\u001b[2K   \u001b[90m━━━━━━━━━━━━━━━━━━━━━━━━━━━━━━━━━━━━━━━━\u001b[0m \u001b[32m5.6/5.6 MB\u001b[0m \u001b[31m48.8 MB/s\u001b[0m eta \u001b[36m0:00:00\u001b[0m\n",
            "\u001b[?25hDownloading pypdfium2-4.30.0-py3-none-manylinux_2_17_x86_64.manylinux2014_x86_64.whl (2.8 MB)\n",
            "\u001b[2K   \u001b[90m━━━━━━━━━━━━━━━━━━━━━━━━━━━━━━━━━━━━━━━━\u001b[0m \u001b[32m2.8/2.8 MB\u001b[0m \u001b[31m31.7 MB/s\u001b[0m eta \u001b[36m0:00:00\u001b[0m\n",
            "\u001b[?25hInstalling collected packages: pypdfium2, PyMuPDF, pdfminer.six, pdfplumber\n",
            "Successfully installed PyMuPDF-1.24.11 pdfminer.six-20231228 pdfplumber-0.11.4 pypdfium2-4.30.0\n"
          ]
        }
      ],
      "source": [
        "pip install PyMuPDF pdfplumber Pillow"
      ]
    },
    {
      "cell_type": "code",
      "source": [
        "import fitz  # PyMuPDF\n",
        "import pdfplumber\n",
        "import json\n",
        "import os\n"
      ],
      "metadata": {
        "id": "ufu4Yi7L_LAE"
      },
      "execution_count": 2,
      "outputs": []
    },
    {
      "cell_type": "code",
      "source": [
        "def extract_text_from_pdf(pdf_path):\n",
        "    text_data = []\n",
        "    with fitz.open(pdf_path) as doc:\n",
        "        for page in doc:\n",
        "            text_data.append(page.get_text())\n",
        "    return text_data"
      ],
      "metadata": {
        "id": "x1X9SKe5_R_K"
      },
      "execution_count": 3,
      "outputs": []
    },
    {
      "cell_type": "code",
      "source": [
        "def extract_images_from_pdf(pdf_path):\n",
        "    images_data = []\n",
        "    with fitz.open(pdf_path) as doc:\n",
        "        for page_number in range(len(doc)):\n",
        "            page = doc[page_number]\n",
        "            images = page.get_images(full=True)\n",
        "            for img_index, img in enumerate(images):\n",
        "                xref = img[0]\n",
        "                base_image = doc.extract_image(xref)\n",
        "                image_bytes = base_image[\"image\"]\n",
        "                image_ext = base_image[\"ext\"]\n",
        "                image_filename = f\"image_page_{page_number + 1}_{img_index + 1}.{image_ext}\"\n",
        "                with open(image_filename, \"wb\") as img_file:\n",
        "                    img_file.write(image_bytes)\n",
        "                images_data.append({\n",
        "                    \"page\": page_number + 1,\n",
        "                    \"image_filename\": image_filename\n",
        "                })\n",
        "    return images_data\n"
      ],
      "metadata": {
        "id": "o1MK6F8I_cW5"
      },
      "execution_count": 4,
      "outputs": []
    },
    {
      "cell_type": "code",
      "source": [
        "def extract_tables_from_pdf(pdf_path):\n",
        "    tables_data = []\n",
        "    with pdfplumber.open(pdf_path) as pdf:\n",
        "        for page_number in range(len(pdf.pages)):\n",
        "            page = pdf.pages[page_number]\n",
        "            tables = page.extract_tables()\n",
        "            for table in tables:\n",
        "                tables_data.append({\n",
        "                    \"page\": page_number + 1,\n",
        "                    \"table\": table\n",
        "                })\n",
        "    return tables_data"
      ],
      "metadata": {
        "id": "iT4Qst56_pAD"
      },
      "execution_count": 5,
      "outputs": []
    },
    {
      "cell_type": "code",
      "source": [
        "def extract_pdf_data(pdf_path):\n",
        "    data = {\n",
        "        \"text\": extract_text_from_pdf(pdf_path),\n",
        "        \"images\": extract_images_from_pdf(pdf_path),\n",
        "        \"tables\": extract_tables_from_pdf(pdf_path)\n",
        "    }\n",
        "    return data\n"
      ],
      "metadata": {
        "id": "rHaWaVgn_viu"
      },
      "execution_count": 6,
      "outputs": []
    },
    {
      "cell_type": "code",
      "source": [
        "def main(pdf_path):\n",
        "    if not os.path.exists(pdf_path):\n",
        "        print(f\"File {pdf_path} does not exist.\")\n",
        "        return\n",
        "\n",
        "    extracted_data = extract_pdf_data(pdf_path)\n",
        "    json_output = json.dumps(extracted_data, indent=4)\n",
        "\n",
        "    output_json_file = pdf_path.replace('.pdf', '_extracted_data.json')\n",
        "    with open(output_json_file, 'w') as json_file:\n",
        "        json_file.write(json_output)\n",
        "\n",
        "    print(f\"Data extracted and saved to {output_json_file}\")\n",
        "\n",
        "if __name__ == \"__main__\":\n",
        "    pdf_file_path = \"your_pdf_file.pdf\"  # Replace with your PDF file path\n",
        "    main(pdf_file_path)"
      ],
      "metadata": {
        "colab": {
          "base_uri": "https://localhost:8080/"
        },
        "id": "nAXI0nuI_4qQ",
        "outputId": "9ef2b8aa-8d1a-483a-8451-9897fe37858f"
      },
      "execution_count": 7,
      "outputs": [
        {
          "output_type": "stream",
          "name": "stdout",
          "text": [
            "File your_pdf_file.pdf does not exist.\n"
          ]
        }
      ]
    },
    {
      "cell_type": "code",
      "source": [
        "pdf_file_path = \"attention_paper.pdf\"  # Replace with your PDF file path /content/attention_paper.pdf\n",
        "main(pdf_file_path)"
      ],
      "metadata": {
        "colab": {
          "base_uri": "https://localhost:8080/"
        },
        "id": "QuRnzmoFBM9u",
        "outputId": "f8d237e5-8861-4469-a9ff-40448bd9f02c"
      },
      "execution_count": 8,
      "outputs": [
        {
          "output_type": "stream",
          "name": "stdout",
          "text": [
            "Data extracted and saved to attention_paper_extracted_data.json\n"
          ]
        }
      ]
    },
    {
      "cell_type": "markdown",
      "source": [],
      "metadata": {
        "id": "gNohLOAECKTW"
      }
    }
  ]
}